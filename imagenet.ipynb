{
 "cells": [
  {
   "cell_type": "code",
   "execution_count": 1,
   "metadata": {},
   "outputs": [],
   "source": [
    "# in order to install the required packages for the snn conversion, \n",
    "# you need the following packages\n",
    "# furthemore you must have installed miniconda or anaconda\n",
    "# and activated a virtual environment to execute the following commands\n",
    "\n",
    "# %conda install akida\n",
    "# %conda install cnn2snn\n",
    "# %conda install akida-models"
   ]
  },
  {
   "cell_type": "code",
   "execution_count": 1,
   "metadata": {
    "notebookRunGroups": {
     "groupValue": "12"
    }
   },
   "outputs": [
    {
     "name": "stderr",
     "output_type": "stream",
     "text": [
      "c:\\Users\\fmila\\miniconda3\\envs\\studienarbeit\\lib\\site-packages\\tqdm\\auto.py:22: TqdmWarning: IProgress not found. Please update jupyter and ipywidgets. See https://ipywidgets.readthedocs.io/en/stable/user_install.html\n",
      "  from .autonotebook import tqdm as notebook_tqdm\n"
     ]
    }
   ],
   "source": [
    "import tensorflow as tf\n",
    "import utils"
   ]
  },
  {
   "cell_type": "code",
   "execution_count": 2,
   "metadata": {
    "notebookRunGroups": {
     "groupValue": "12"
    }
   },
   "outputs": [
    {
     "name": "stderr",
     "output_type": "stream",
     "text": [
      "WARNING:absl:`TensorInfo.dtype` is deprecated. Please change your code to use NumPy with the field `TensorInfo.np_dtype` or use TensorFlow with the field `TensorInfo.tf_dtype`.\n",
      "WARNING:absl:You use TensorFlow DType <dtype: 'float32'> in tfds.features This will soon be deprecated in favor of NumPy DTypes. In the meantime it was converted to float32.\n",
      "WARNING:absl:`TensorInfo.dtype` is deprecated. Please change your code to use NumPy with the field `TensorInfo.np_dtype` or use TensorFlow with the field `TensorInfo.tf_dtype`.\n",
      "WARNING:absl:You use TensorFlow DType <dtype: 'uint8'> in tfds.features This will soon be deprecated in favor of NumPy DTypes. In the meantime it was converted to uint8.\n",
      "WARNING:absl:`TensorInfo.dtype` is deprecated. Please change your code to use NumPy with the field `TensorInfo.np_dtype` or use TensorFlow with the field `TensorInfo.tf_dtype`.\n",
      "WARNING:absl:You use TensorFlow DType <dtype: 'bool'> in tfds.features This will soon be deprecated in favor of NumPy DTypes. In the meantime it was converted to bool.\n",
      "WARNING:absl:`TensorInfo.dtype` is deprecated. Please change your code to use NumPy with the field `TensorInfo.np_dtype` or use TensorFlow with the field `TensorInfo.tf_dtype`.\n",
      "WARNING:absl:`TensorInfo.dtype` is deprecated. Please change your code to use NumPy with the field `TensorInfo.np_dtype` or use TensorFlow with the field `TensorInfo.tf_dtype`.\n",
      "WARNING:absl:`TensorInfo.dtype` is deprecated. Please change your code to use NumPy with the field `TensorInfo.np_dtype` or use TensorFlow with the field `TensorInfo.tf_dtype`.\n",
      "WARNING:absl:`TensorInfo.dtype` is deprecated. Please change your code to use NumPy with the field `TensorInfo.np_dtype` or use TensorFlow with the field `TensorInfo.tf_dtype`.\n",
      "WARNING:absl:`TensorInfo.dtype` is deprecated. Please change your code to use NumPy with the field `TensorInfo.np_dtype` or use TensorFlow with the field `TensorInfo.tf_dtype`.\n",
      "WARNING:absl:`TensorInfo.dtype` is deprecated. Please change your code to use NumPy with the field `TensorInfo.np_dtype` or use TensorFlow with the field `TensorInfo.tf_dtype`.\n",
      "WARNING:absl:`TensorInfo.dtype` is deprecated. Please change your code to use NumPy with the field `TensorInfo.np_dtype` or use TensorFlow with the field `TensorInfo.tf_dtype`.\n"
     ]
    },
    {
     "name": "stdout",
     "output_type": "stream",
     "text": [
      "\n",
      "\n",
      "\n",
      "\n",
      " Tensor(\"args_0:0\", shape=(None, 4), dtype=float32) \n",
      "\n",
      " Tensor(\"strided_slice:0\", shape=(), dtype=int32) \n",
      "\n",
      "\n",
      "\n",
      "\n",
      "\n",
      "\n",
      " Tensor(\"args_0:0\", shape=(None, 4), dtype=float32) \n",
      "\n",
      " Tensor(\"strided_slice:0\", shape=(), dtype=int32) \n",
      "\n",
      "\n",
      "\n",
      "\n",
      "\n",
      "\n",
      " Tensor(\"args_0:0\", shape=(None, 4), dtype=float32) \n",
      "\n",
      " Tensor(\"strided_slice:0\", shape=(), dtype=int32) \n",
      "\n",
      "\n"
     ]
    }
   ],
   "source": [
    "ds_train, ds_train_info = utils.getDataset('train')\n",
    "ds_test, ds_test_info = utils.getDataset('test')\n",
    "ds_eval, ds_eval_info = utils.getDataset('validation')"
   ]
  },
  {
   "cell_type": "code",
   "execution_count": 4,
   "metadata": {
    "notebookRunGroups": {
     "groupValue": "2"
    }
   },
   "outputs": [],
   "source": [
    "from tensorflow.keras.models import load_model\n",
    "from tensorflow.keras.utils import get_file\n",
    "from tensorflow.keras.layers import Dense\n",
    "from tensorflow.keras import Sequential"
   ]
  },
  {
   "cell_type": "code",
   "execution_count": 5,
   "metadata": {
    "notebookRunGroups": {
     "groupValue": "2"
    }
   },
   "outputs": [
    {
     "name": "stdout",
     "output_type": "stream",
     "text": [
      "Downloading data from http://data.brainchip.com/models/akidanet/akidanet_imagenet_224_alpha_50.h5\n",
      "5714072/5714072 [==============================] - 1s 0us/step\n",
      "WARNING:tensorflow:No training configuration found in the save file, so the model was *not* compiled. Compile it manually.\n"
     ]
    },
    {
     "name": "stderr",
     "output_type": "stream",
     "text": [
      "WARNING:tensorflow:No training configuration found in the save file, so the model was *not* compiled. Compile it manually.\n"
     ]
    }
   ],
   "source": [
    "model_file = get_file(\n",
    "    \"akidanet_imagenet_224_alpha_50.h5\",\n",
    "    \"http://data.brainchip.com/models/akidanet/akidanet_imagenet_224_alpha_50.h5\",\n",
    "    cache_subdir='models/akidanet_imagenet')\n",
    "\n",
    "model = Sequential()\n",
    "model.add(load_model(model_file)) \n",
    "model.add(Dense(4, activation='relu'))"
   ]
  },
  {
   "cell_type": "code",
   "execution_count": 6,
   "metadata": {
    "notebookRunGroups": {
     "groupValue": "2"
    }
   },
   "outputs": [],
   "source": [
    "model.compile(optimizer='adam',\n",
    "              loss=tf.keras.losses.MeanSquaredError(reduction=\"auto\", name=\"mean_squared_error\"), \n",
    "              metrics=['accuracy'])\n",
    "model.get_layer(index=-1)\n",
    "\n",
    "\n",
    "cp_callback = tf.keras.callbacks.ModelCheckpoint(filepath=\"./imagenet_models\",\n",
    "                                                 save_weights_only=True,\n",
    "                                                 verbose=1)"
   ]
  },
  {
   "cell_type": "code",
   "execution_count": 7,
   "metadata": {
    "notebookRunGroups": {
     "groupValue": "2"
    }
   },
   "outputs": [
    {
     "name": "stdout",
     "output_type": "stream",
     "text": [
      "Epoch 1/6\n",
      "37/37 [==============================] - 195s 4s/step - loss: 0.3460 - accuracy: 0.2412\n",
      "Epoch 2/6\n",
      "37/37 [==============================] - 125s 3s/step - loss: 0.2430 - accuracy: 0.1311\n",
      "Epoch 3/6\n",
      "37/37 [==============================] - 127s 3s/step - loss: 0.1696 - accuracy: 0.0298\n",
      "Epoch 4/6\n",
      "37/37 [==============================] - 124s 3s/step - loss: 0.1210 - accuracy: 0.7009\n",
      "Epoch 5/6\n",
      "37/37 [==============================] - 122s 3s/step - loss: 0.0901 - accuracy: 0.7612\n",
      "Epoch 6/6\n",
      "37/37 [==============================] - 115s 3s/step - loss: 0.0703 - accuracy: 0.7612\n"
     ]
    },
    {
     "data": {
      "text/plain": [
       "<keras.callbacks.History at 0x2a5eabe1b40>"
      ]
     },
     "execution_count": 7,
     "metadata": {},
     "output_type": "execute_result"
    }
   ],
   "source": [
    "model.fit(\n",
    "    ds_train,\n",
    "    epochs=6,\n",
    "    validation_data=ds_test,\n",
    ")"
   ]
  },
  {
   "cell_type": "code",
   "execution_count": 8,
   "metadata": {
    "notebookRunGroups": {
     "groupValue": "2"
    }
   },
   "outputs": [
    {
     "name": "stdout",
     "output_type": "stream",
     "text": [
      "9/9 [==============================] - 11s 707ms/step - loss: 0.0632 - accuracy: 0.7594\n",
      "test loss, test acc: [0.06319066882133484, 0.759358286857605]\n"
     ]
    },
    {
     "name": "stderr",
     "output_type": "stream",
     "text": [
      "WARNING:absl:Function `_wrapped_model` contains input name(s) akidanet_0.50_224_1000_input with unsupported characters which will be renamed to akidanet_0_50_224_1000_input in the SavedModel.\n",
      "WARNING:absl:Found untraced functions such as _jit_compiled_convolution_op, _jit_compiled_convolution_op, _jit_compiled_convolution_op, _jit_compiled_convolution_op, _jit_compiled_convolution_op while saving (showing 5 of 15). These functions will not be directly callable after loading.\n"
     ]
    },
    {
     "name": "stdout",
     "output_type": "stream",
     "text": [
      "INFO:tensorflow:Assets written to: models/imagenet_model\\assets\n"
     ]
    },
    {
     "name": "stderr",
     "output_type": "stream",
     "text": [
      "INFO:tensorflow:Assets written to: models/imagenet_model\\assets\n"
     ]
    }
   ],
   "source": [
    "results = model.evaluate(\n",
    "  ds_eval\n",
    ")\n",
    "\n",
    "print(\"test loss, test acc:\", results)\n",
    "\n",
    "model.save(\"models/imagenet_model\")"
   ]
  },
  {
   "cell_type": "code",
   "execution_count": 3,
   "metadata": {
    "notebookRunGroups": {
     "groupValue": "1"
    }
   },
   "outputs": [],
   "source": [
    "import cv2\n",
    "import numpy as np\n",
    "\n",
    "model = tf.keras.models.load_model(\"models/imagenet_model\")"
   ]
  },
  {
   "cell_type": "code",
   "execution_count": 5,
   "metadata": {
    "notebookRunGroups": {
     "groupValue": "1"
    }
   },
   "outputs": [
    {
     "name": "stdout",
     "output_type": "stream",
     "text": [
      "4/4 [==============================] - 2s 168ms/step\n"
     ]
    },
    {
     "data": {
      "text/plain": [
       "<tf.Tensor: shape=(128, 1, 4), dtype=float32, numpy=\n",
       "array([[[0.20320007, 0.39182246, 0.40835583, 0.4579454 ]],\n",
       "\n",
       "       [[0.2032034 , 0.39182884, 0.4083622 , 0.45795247]],\n",
       "\n",
       "       [[0.20320195, 0.39182606, 0.4083594 , 0.4579494 ]],\n",
       "\n",
       "       [[0.20320371, 0.39182943, 0.40836278, 0.4579531 ]],\n",
       "\n",
       "       [[0.20320323, 0.39182854, 0.4083619 , 0.4579521 ]],\n",
       "\n",
       "       [[0.20320241, 0.391827  , 0.40836036, 0.45795038]],\n",
       "\n",
       "       [[0.20320386, 0.39182973, 0.4083631 , 0.45795345]],\n",
       "\n",
       "       [[0.20320246, 0.39182705, 0.40836042, 0.45795047]],\n",
       "\n",
       "       [[0.20319985, 0.39182204, 0.40835539, 0.45794493]],\n",
       "\n",
       "       [[0.20320237, 0.3918269 , 0.40836027, 0.4579503 ]],\n",
       "\n",
       "       [[0.20319901, 0.3918204 , 0.40835378, 0.4579431 ]],\n",
       "\n",
       "       [[0.2031992 , 0.39182076, 0.40835407, 0.4579435 ]],\n",
       "\n",
       "       [[0.20320095, 0.39182416, 0.4083575 , 0.45794728]],\n",
       "\n",
       "       [[0.20320193, 0.39182603, 0.4083594 , 0.45794937]],\n",
       "\n",
       "       [[0.20320278, 0.39182767, 0.40836105, 0.4579512 ]],\n",
       "\n",
       "       [[0.20320126, 0.39182472, 0.40835807, 0.4579479 ]],\n",
       "\n",
       "       [[0.20320241, 0.39182696, 0.40836033, 0.45795035]],\n",
       "\n",
       "       [[0.2032024 , 0.39182693, 0.4083603 , 0.45795035]],\n",
       "\n",
       "       [[0.20320132, 0.39182487, 0.40835822, 0.45794806]],\n",
       "\n",
       "       [[0.20320028, 0.39182284, 0.4083562 , 0.45794582]],\n",
       "\n",
       "       [[0.20320083, 0.39182392, 0.4083573 , 0.45794702]],\n",
       "\n",
       "       [[0.2032002 , 0.3918227 , 0.408356  , 0.45794564]],\n",
       "\n",
       "       [[0.20320266, 0.39182746, 0.40836084, 0.45795092]],\n",
       "\n",
       "       [[0.20320162, 0.39182544, 0.4083588 , 0.4579487 ]],\n",
       "\n",
       "       [[0.2032026 , 0.39182732, 0.4083607 , 0.45795077]],\n",
       "\n",
       "       [[0.20320101, 0.39182425, 0.40835762, 0.4579474 ]],\n",
       "\n",
       "       [[0.20320061, 0.39182347, 0.40835685, 0.45794654]],\n",
       "\n",
       "       [[0.20320314, 0.3918284 , 0.40836176, 0.45795196]],\n",
       "\n",
       "       [[0.20320122, 0.39182466, 0.408358  , 0.45794782]],\n",
       "\n",
       "       [[0.20320255, 0.39182723, 0.4083606 , 0.45795068]],\n",
       "\n",
       "       [[0.20319875, 0.3918199 , 0.40835327, 0.45794255]],\n",
       "\n",
       "       [[0.2032019 , 0.391826  , 0.40835938, 0.45794934]],\n",
       "\n",
       "       [[0.20319967, 0.3918217 , 0.40835503, 0.45794454]],\n",
       "\n",
       "       [[0.20320344, 0.3918289 , 0.4083623 , 0.45795256]],\n",
       "\n",
       "       [[0.20320168, 0.39182553, 0.4083589 , 0.4579488 ]],\n",
       "\n",
       "       [[0.20320153, 0.39182526, 0.40835863, 0.4579485 ]],\n",
       "\n",
       "       [[0.20320195, 0.39182606, 0.40835944, 0.45794937]],\n",
       "\n",
       "       [[0.20320271, 0.39182755, 0.4083609 , 0.457951  ]],\n",
       "\n",
       "       [[0.20320241, 0.39182696, 0.40836033, 0.45795038]],\n",
       "\n",
       "       [[0.20319927, 0.39182088, 0.40835425, 0.45794368]],\n",
       "\n",
       "       [[0.20320272, 0.39182758, 0.4083609 , 0.45795104]],\n",
       "\n",
       "       [[0.20320241, 0.39182696, 0.40836033, 0.45795038]],\n",
       "\n",
       "       [[0.20319913, 0.3918206 , 0.40835398, 0.45794338]],\n",
       "\n",
       "       [[0.20320109, 0.39182442, 0.4083578 , 0.45794755]],\n",
       "\n",
       "       [[0.20320067, 0.3918236 , 0.40835696, 0.45794666]],\n",
       "\n",
       "       [[0.2032023 , 0.39182675, 0.40836012, 0.45795015]],\n",
       "\n",
       "       [[0.20320158, 0.39182532, 0.4083587 , 0.45794857]],\n",
       "\n",
       "       [[0.20320193, 0.39182603, 0.4083594 , 0.45794937]],\n",
       "\n",
       "       [[0.20320146, 0.3918251 , 0.40835848, 0.45794836]],\n",
       "\n",
       "       [[0.20320214, 0.39182642, 0.4083598 , 0.4579498 ]],\n",
       "\n",
       "       [[0.20320183, 0.39182582, 0.4083592 , 0.45794913]],\n",
       "\n",
       "       [[0.20320188, 0.39182594, 0.40835932, 0.45794928]],\n",
       "\n",
       "       [[0.20320229, 0.39182672, 0.4083601 , 0.45795012]],\n",
       "\n",
       "       [[0.20320287, 0.39182785, 0.40836123, 0.4579514 ]],\n",
       "\n",
       "       [[0.20320234, 0.39182678, 0.40836015, 0.45795023]],\n",
       "\n",
       "       [[0.20320156, 0.39182535, 0.4083587 , 0.4579486 ]],\n",
       "\n",
       "       [[0.20320156, 0.39182535, 0.4083587 , 0.4579486 ]],\n",
       "\n",
       "       [[0.2032029 , 0.3918279 , 0.4083613 , 0.45795143]],\n",
       "\n",
       "       [[0.20320138, 0.391825  , 0.40835834, 0.45794818]],\n",
       "\n",
       "       [[0.20320067, 0.39182362, 0.40835696, 0.4579467 ]],\n",
       "\n",
       "       [[0.20320384, 0.3918297 , 0.40836307, 0.45795342]],\n",
       "\n",
       "       [[0.20320277, 0.39182764, 0.408361  , 0.45795113]],\n",
       "\n",
       "       [[0.20320301, 0.3918281 , 0.40836146, 0.4579516 ]],\n",
       "\n",
       "       [[0.20320097, 0.39182416, 0.4083575 , 0.45794725]],\n",
       "\n",
       "       [[0.20320345, 0.39182895, 0.40836233, 0.4579526 ]],\n",
       "\n",
       "       [[0.20320255, 0.39182723, 0.4083606 , 0.45795068]],\n",
       "\n",
       "       [[0.2032016 , 0.3918254 , 0.40835878, 0.45794865]],\n",
       "\n",
       "       [[0.20320095, 0.3918241 , 0.40835747, 0.45794722]],\n",
       "\n",
       "       [[0.20320101, 0.39182425, 0.40835762, 0.4579474 ]],\n",
       "\n",
       "       [[0.2032023 , 0.39182675, 0.40836012, 0.45795017]],\n",
       "\n",
       "       [[0.2032029 , 0.39182788, 0.40836126, 0.45795143]],\n",
       "\n",
       "       [[0.20320316, 0.3918284 , 0.40836176, 0.45795196]],\n",
       "\n",
       "       [[0.203202  , 0.39182615, 0.4083595 , 0.45794946]],\n",
       "\n",
       "       [[0.20320189, 0.39182594, 0.40835932, 0.45794925]],\n",
       "\n",
       "       [[0.20320123, 0.3918247 , 0.408358  , 0.45794785]],\n",
       "\n",
       "       [[0.20320046, 0.3918232 , 0.40835658, 0.45794627]],\n",
       "\n",
       "       [[0.20320241, 0.39182693, 0.4083603 , 0.45795035]],\n",
       "\n",
       "       [[0.20320158, 0.39182532, 0.4083587 , 0.4579486 ]],\n",
       "\n",
       "       [[0.20320077, 0.39182377, 0.40835714, 0.45794687]],\n",
       "\n",
       "       [[0.20320241, 0.391827  , 0.40836036, 0.4579504 ]],\n",
       "\n",
       "       [[0.20320092, 0.39182413, 0.40835747, 0.45794722]],\n",
       "\n",
       "       [[0.20320158, 0.39182532, 0.4083587 , 0.45794857]],\n",
       "\n",
       "       [[0.20320225, 0.39182663, 0.40836   , 0.45795003]],\n",
       "\n",
       "       [[0.20320371, 0.39182946, 0.40836284, 0.45795316]],\n",
       "\n",
       "       [[0.20320158, 0.39182538, 0.40835872, 0.45794863]],\n",
       "\n",
       "       [[0.20320192, 0.39182603, 0.4083594 , 0.45794934]],\n",
       "\n",
       "       [[0.20320241, 0.39182696, 0.40836033, 0.45795035]],\n",
       "\n",
       "       [[0.20320283, 0.39182773, 0.4083611 , 0.45795128]],\n",
       "\n",
       "       [[0.20320141, 0.391825  , 0.40835837, 0.45794824]],\n",
       "\n",
       "       [[0.20320211, 0.3918264 , 0.40835977, 0.45794976]],\n",
       "\n",
       "       [[0.20320201, 0.39182618, 0.40835956, 0.45794952]],\n",
       "\n",
       "       [[0.20320077, 0.39182377, 0.40835714, 0.45794687]],\n",
       "\n",
       "       [[0.2032011 , 0.39182442, 0.40835777, 0.45794758]],\n",
       "\n",
       "       [[0.20320259, 0.39182732, 0.4083607 , 0.4579508 ]],\n",
       "\n",
       "       [[0.20320031, 0.39182293, 0.40835628, 0.4579459 ]],\n",
       "\n",
       "       [[0.20320095, 0.39182416, 0.4083575 , 0.45794728]],\n",
       "\n",
       "       [[0.20320085, 0.39182395, 0.4083573 , 0.45794705]],\n",
       "\n",
       "       [[0.20320283, 0.39182776, 0.40836114, 0.4579513 ]],\n",
       "\n",
       "       [[0.20320272, 0.39182755, 0.40836093, 0.45795104]],\n",
       "\n",
       "       [[0.20320135, 0.3918249 , 0.40835828, 0.45794812]],\n",
       "\n",
       "       [[0.20320193, 0.39182606, 0.40835944, 0.4579494 ]],\n",
       "\n",
       "       [[0.20320018, 0.39182264, 0.40835598, 0.45794562]],\n",
       "\n",
       "       [[0.20320073, 0.39182368, 0.40835705, 0.45794678]],\n",
       "\n",
       "       [[0.20320265, 0.3918274 , 0.40836078, 0.4579509 ]],\n",
       "\n",
       "       [[0.2032016 , 0.3918254 , 0.40835878, 0.45794868]],\n",
       "\n",
       "       [[0.20320271, 0.3918275 , 0.40836087, 0.45795098]],\n",
       "\n",
       "       [[0.2031992 , 0.39182076, 0.40835407, 0.4579435 ]],\n",
       "\n",
       "       [[0.20320024, 0.39182273, 0.4083561 , 0.4579457 ]],\n",
       "\n",
       "       [[0.20320103, 0.39182428, 0.40835765, 0.45794743]],\n",
       "\n",
       "       [[0.20320006, 0.3918224 , 0.40835574, 0.45794532]],\n",
       "\n",
       "       [[0.20320256, 0.39182723, 0.4083606 , 0.4579507 ]],\n",
       "\n",
       "       [[0.2032009 , 0.39182404, 0.4083574 , 0.45794713]],\n",
       "\n",
       "       [[0.20320179, 0.39182574, 0.4083591 , 0.45794904]],\n",
       "\n",
       "       [[0.20320012, 0.39182255, 0.40835592, 0.4579455 ]],\n",
       "\n",
       "       [[0.20319907, 0.39182055, 0.4083539 , 0.45794326]],\n",
       "\n",
       "       [[0.20320271, 0.39182755, 0.4083609 , 0.457951  ]],\n",
       "\n",
       "       [[0.20320222, 0.3918266 , 0.40835997, 0.45795   ]],\n",
       "\n",
       "       [[0.2032022 , 0.3918266 , 0.40835994, 0.45794997]],\n",
       "\n",
       "       [[0.20320252, 0.39182714, 0.4083605 , 0.45795062]],\n",
       "\n",
       "       [[0.2032015 , 0.3918252 , 0.40835854, 0.45794842]],\n",
       "\n",
       "       [[0.20320167, 0.39182553, 0.4083589 , 0.4579488 ]],\n",
       "\n",
       "       [[0.20320135, 0.3918249 , 0.40835828, 0.45794812]],\n",
       "\n",
       "       [[0.20320287, 0.39182785, 0.40836123, 0.4579514 ]],\n",
       "\n",
       "       [[0.20320085, 0.39182398, 0.40835732, 0.45794705]],\n",
       "\n",
       "       [[0.20320052, 0.3918233 , 0.40835667, 0.45794633]],\n",
       "\n",
       "       [[0.20320144, 0.39182514, 0.40835845, 0.45794833]],\n",
       "\n",
       "       [[0.20320101, 0.39182428, 0.40835762, 0.4579474 ]],\n",
       "\n",
       "       [[0.2032013 , 0.39182475, 0.40835813, 0.45794797]]], dtype=float32)>"
      ]
     },
     "metadata": {},
     "output_type": "display_data"
    },
    {
     "name": "stdout",
     "output_type": "stream",
     "text": [
      "0\n",
      "1\n",
      "2\n",
      "3\n",
      "4\n",
      "5\n",
      "6\n"
     ]
    },
    {
     "ename": "IndexError",
     "evalue": "index 6 is out of bounds for axis 0 with size 6",
     "output_type": "error",
     "traceback": [
      "\u001b[1;31m---------------------------------------------------------------------------\u001b[0m",
      "\u001b[1;31mIndexError\u001b[0m                                Traceback (most recent call last)",
      "Cell \u001b[1;32mIn[5], line 21\u001b[0m\n\u001b[0;32m     13\u001b[0m images \u001b[39m=\u001b[39m tf\u001b[39m.\u001b[39mimage\u001b[39m.\u001b[39mdraw_bounding_boxes(\n\u001b[0;32m     14\u001b[0m   ele[\u001b[39m0\u001b[39m], ele[\u001b[39m1\u001b[39m], [(\u001b[39m0\u001b[39m, \u001b[39m0\u001b[39m, \u001b[39m255\u001b[39m) \u001b[39mfor\u001b[39;00m _ \u001b[39min\u001b[39;00m \u001b[39mrange\u001b[39m(\u001b[39mlen\u001b[39m(ele[\u001b[39m0\u001b[39m]))], name\u001b[39m=\u001b[39m\u001b[39mNone\u001b[39;00m\n\u001b[0;32m     15\u001b[0m   )\n\u001b[0;32m     17\u001b[0m images \u001b[39m=\u001b[39m tf\u001b[39m.\u001b[39mimage\u001b[39m.\u001b[39mdraw_bounding_boxes(\n\u001b[0;32m     18\u001b[0m   images, predictions, [(\u001b[39m0\u001b[39m, \u001b[39m255\u001b[39m, \u001b[39m0\u001b[39m) \u001b[39mfor\u001b[39;00m _ \u001b[39min\u001b[39;00m \u001b[39mrange\u001b[39m(\u001b[39mlen\u001b[39m(images))], name\u001b[39m=\u001b[39m\u001b[39mNone\u001b[39;00m\n\u001b[0;32m     19\u001b[0m   )\n\u001b[1;32m---> 21\u001b[0m display_imgs(images)\n",
      "Cell \u001b[1;32mIn[4], line 22\u001b[0m, in \u001b[0;36mdisplay_imgs\u001b[1;34m(images, n)\u001b[0m\n\u001b[0;32m     19\u001b[0m     im\u001b[39m.\u001b[39msave(\u001b[39m\"\u001b[39m\u001b[39mtensor.jpeg\u001b[39m\u001b[39m\"\u001b[39m)\n\u001b[0;32m     21\u001b[0m     \u001b[39m#axs[i].imshow(image)        \u001b[39;00m\n\u001b[1;32m---> 22\u001b[0m     axs[i]\u001b[39m.\u001b[39mget_xaxis()\u001b[39m.\u001b[39mset_visible(\u001b[39mFalse\u001b[39;00m)\n\u001b[0;32m     23\u001b[0m     axs[i]\u001b[39m.\u001b[39mget_yaxis()\u001b[39m.\u001b[39mset_visible(\u001b[39mFalse\u001b[39;00m)\n\u001b[0;32m     25\u001b[0m plt\u001b[39m.\u001b[39mimshow(image)\n",
      "\u001b[1;31mIndexError\u001b[0m: index 6 is out of bounds for axis 0 with size 6"
     ]
    },
    {
     "ename": "",
     "evalue": "",
     "output_type": "error",
     "traceback": [
      "\u001b[1;31mCanceled future for execute_request message before replies were done"
     ]
    },
    {
     "ename": "",
     "evalue": "",
     "output_type": "error",
     "traceback": [
      "\u001b[1;31mDer Kernel ist beim Ausführen von Code in der aktuellen Zelle oder einer vorherigen Zelle abgestürzt. Bitte überprüfen Sie den Code in der/den Zelle(n), um eine mögliche Fehlerursache zu identifizieren. Klicken Sie <a href='https://aka.ms/vscodeJupyterKernelCrash'>hier</a>, um weitere Informationen zu erhalten. Weitere Details finden Sie in Jupyter <a href='command:jupyter.viewOutput'>log</a>."
     ]
    }
   ],
   "source": [
    "for ele in ds_eval.take(1):\n",
    "\n",
    "  predictions = tf.convert_to_tensor([np.array([bbox]) for bbox in model.predict(ele[0])])\n",
    "\n",
    "  display(predictions)\n",
    "  #display(ele[1])\n",
    "\n",
    "  images = tf.image.draw_bounding_boxes(\n",
    "    ele[0], ele[1], [(0, 0, 255) for _ in range(len(ele[0]))], name=None\n",
    "    )\n",
    "  \n",
    "  images = tf.image.draw_bounding_boxes(\n",
    "    images, predictions, [(0, 255, 0) for _ in range(len(images))], name=None\n",
    "    )\n",
    "  \n",
    "  utils.display_imgs(images)  "
   ]
  },
  {
   "cell_type": "code",
   "execution_count": 11,
   "metadata": {
    "notebookRunGroups": {
     "groupValue": ""
    }
   },
   "outputs": [
    {
     "ename": "NameError",
     "evalue": "name 'bbox' is not defined",
     "output_type": "error",
     "traceback": [
      "\u001b[1;31m---------------------------------------------------------------------------\u001b[0m",
      "\u001b[1;31mNameError\u001b[0m                                 Traceback (most recent call last)",
      "Cell \u001b[1;32mIn[11], line 1\u001b[0m\n\u001b[1;32m----> 1\u001b[0m \u001b[39mfor\u001b[39;00m box \u001b[39min\u001b[39;00m [bbox, prediction]:\n\u001b[0;32m      3\u001b[0m   x \u001b[39m=\u001b[39m box[\u001b[39m0\u001b[39m]\n\u001b[0;32m      4\u001b[0m   y \u001b[39m=\u001b[39m box[\u001b[39m1\u001b[39m]\n",
      "\u001b[1;31mNameError\u001b[0m: name 'bbox' is not defined"
     ]
    }
   ],
   "source": [
    "\n",
    "for box in [bbox, prediction]:\n",
    "\n",
    "  x = box[0]\n",
    "  y = box[1]\n",
    "  xx = box[2]\n",
    "  yy = box[3]\n",
    "\n",
    "  print(\"x \", x, \"y \", y, \"xx \", xx, \"yy\", yy)\n",
    "\n",
    "  cv2.rectangle(image, (x, y), (xx, yy), (0, 0, 255), 2)\n",
    "  print(\"x,y,w,h:\",x,y,xx,yy)\n",
    "  \n",
    "# save resulting image\n",
    "cv2.imwrite('example.jpg', image)      \n",
    "\n",
    "# show thresh and result    \n",
    "cv2.imshow(\"bounding_box\", image)\n",
    "cv2.waitKey(0)\n",
    "cv2.destroyAllWindows()"
   ]
  }
 ],
 "metadata": {
  "kernelspec": {
   "display_name": "studienarbeit",
   "language": "python",
   "name": "python3"
  },
  "language_info": {
   "codemirror_mode": {
    "name": "ipython",
    "version": 3
   },
   "file_extension": ".py",
   "mimetype": "text/x-python",
   "name": "python",
   "nbconvert_exporter": "python",
   "pygments_lexer": "ipython3",
   "version": "3.10.9"
  },
  "orig_nbformat": 4,
  "vscode": {
   "interpreter": {
    "hash": "3b2c5ed95d59ea5f5de5bf90285ebdd70c4966dcc1d351dee908953e750e23ca"
   }
  }
 },
 "nbformat": 4,
 "nbformat_minor": 2
}
