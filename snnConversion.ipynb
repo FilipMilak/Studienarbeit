{
 "cells": [
  {
   "cell_type": "code",
   "execution_count": null,
   "metadata": {},
   "outputs": [],
   "source": [
    "import tensorflow_datasets as tfds\n",
    "import tensorflow as tf\n",
    "from tensorflow.keras.models import load_model\n",
    "from tensorflow.image import resize\n",
    "import pandas as pd\n",
    "import matplotlib.pyplot as plt\n",
    "import numpy as np\n",
    "from PIL import Image\n",
    "import os"
   ]
  },
  {
   "cell_type": "code",
   "execution_count": null,
   "metadata": {},
   "outputs": [],
   "source": [
    "# Modell laden \n",
    "model_path = 'models/imagenet_model'\n",
    "model = load_model(model_path)"
   ]
  },
  {
   "cell_type": "code",
   "execution_count": null,
   "metadata": {},
   "outputs": [],
   "source": [
    "# Modell in SNN konvertieren \n",
    "from akida_models import Cnn2Snn\n",
    "from cnn2snn import quantize, convert\n",
    "\n",
    "# Quantization - 4-bit weights and 2-bit activations \n",
    "quantized_model = quantize(model, weight_bits=4, activation_bits=2)\n",
    "converter = Cnn2Snn()\n",
    "snn_model = convert(quantized_model)"
   ]
  },
  {
   "cell_type": "code",
   "execution_count": null,
   "metadata": {},
   "outputs": [],
   "source": [
    "# Konfiguration / Parameter usw.\n",
    "#weitere Schichten \n",
    "from keras.layers import Dense, Dropout\n",
    "\n",
    "# Fully Connected Layer/Dense Schicht verwendet Aktivierungsfunktion: ReLU\n",
    "snn_model.add(Dense(units=64, activation='relu'))\n",
    "\n",
    "snn_model.compile(optimizer='adam', loss='localization_loss', metrics=['accuracy'])\n"
   ]
  },
  {
   "cell_type": "code",
   "execution_count": null,
   "metadata": {},
   "outputs": [],
   "source": [
    "# Training \n",
    "\n",
    "# Trainingsdaten \n",
    "# snn_model.fit()\n",
    "# Weiter Schichten anpassen? "
   ]
  }
 ],
 "metadata": {
  "kernelspec": {
   "display_name": "base",
   "language": "python",
   "name": "python3"
  },
  "language_info": {
   "codemirror_mode": {
    "name": "ipython",
    "version": 3
   },
   "file_extension": ".py",
   "mimetype": "text/x-python",
   "name": "python",
   "nbconvert_exporter": "python",
   "pygments_lexer": "ipython3",
   "version": "3.9.12"
  },
  "orig_nbformat": 4
 },
 "nbformat": 4,
 "nbformat_minor": 2
}
