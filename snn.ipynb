{
 "cells": [
  {
   "cell_type": "code",
   "execution_count": null,
   "metadata": {},
   "outputs": [],
   "source": [
    "# in order to install the required packages for the snn conversion, \n",
    "# you need the following packages\n",
    "# furthemore you must have installed miniconda or anaconda\n",
    "# and activated a virtual environment to execute the following commands\n",
    "\n",
    "# %conda install akida\n",
    "# %conda install cnn2snn\n",
    "# %conda install akida-models"
   ]
  },
  {
   "cell_type": "code",
   "execution_count": 3,
   "metadata": {},
   "outputs": [],
   "source": [
    "import numpy as np\n",
    "from tensorflow.keras.utils import get_file\n",
    "from tensorflow.keras.datasets import mnist"
   ]
  },
  {
   "cell_type": "code",
   "execution_count": 4,
   "metadata": {},
   "outputs": [],
   "source": [
    "# Akida specific imports\n",
    "from akida import Model"
   ]
  },
  {
   "cell_type": "code",
   "execution_count": null,
   "metadata": {},
   "outputs": [],
   "source": [
    "# Retrieve MNIST dataset\n",
    "(train_set, train_label), (test_set, test_label) = mnist.load_data()\n",
    "\n",
    "# Load pre-trained MNIST model\n",
    "model_file = get_file(\"gxnor_mnist.fbz\",\n",
    "                        \"http://data.brainchip.com/models/gxnor/gxnor_mnist.fbz\",\n",
    "                        cache_subdir='models/gxnor')\n",
    "model = Model(model_file)\n",
    "\n",
    "# Test the first image of the test set\n",
    "sample_image = 0\n",
    "image = test_set[sample_image]\n",
    "labels = model.predict_classes(image.reshape(1,28,28,1))"
   ]
  },
  {
   "cell_type": "code",
   "execution_count": null,
   "metadata": {},
   "outputs": [],
   "source": []
  }
 ],
 "metadata": {
  "kernelspec": {
   "display_name": "studienarbeit_env",
   "language": "python",
   "name": "python3"
  },
  "language_info": {
   "codemirror_mode": {
    "name": "ipython",
    "version": 3
   },
   "file_extension": ".py",
   "mimetype": "text/x-python",
   "name": "python",
   "nbconvert_exporter": "python",
   "pygments_lexer": "ipython3",
   "version": "3.10.8 | packaged by conda-forge | (main, Nov 24 2022, 14:07:00) [MSC v.1916 64 bit (AMD64)]"
  },
  "orig_nbformat": 4,
  "vscode": {
   "interpreter": {
    "hash": "5af87179686f79906606ada0849899045151fdfcd8253dc4e17141c7c7556e1d"
   }
  }
 },
 "nbformat": 4,
 "nbformat_minor": 2
}
